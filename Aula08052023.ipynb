{
  "nbformat": 4,
  "nbformat_minor": 0,
  "metadata": {
    "colab": {
      "provenance": [],
      "authorship_tag": "ABX9TyO1/YKOXI0fdUZDMNB5Ghrv",
      "include_colab_link": true
    },
    "kernelspec": {
      "name": "python3",
      "display_name": "Python 3"
    },
    "language_info": {
      "name": "python"
    }
  },
  "cells": [
    {
      "cell_type": "markdown",
      "metadata": {
        "id": "view-in-github",
        "colab_type": "text"
      },
      "source": [
        "<a href=\"https://colab.research.google.com/github/EduardoTortorella/P1_SI_Manha/blob/main/Aula08052023.ipynb\" target=\"_parent\"><img src=\"https://colab.research.google.com/assets/colab-badge.svg\" alt=\"Open In Colab\"/></a>"
      ]
    },
    {
      "cell_type": "markdown",
      "source": [
        "Aula sobre funcao map e lambda"
      ],
      "metadata": {
        "id": "A27ddeyGuGDR"
      }
    },
    {
      "cell_type": "code",
      "execution_count": 5,
      "metadata": {
        "colab": {
          "base_uri": "https://localhost:8080/"
        },
        "id": "35Y_WB4rbVJn",
        "outputId": "c5ed150e-b363-405d-8780-0003f76338ea"
      },
      "outputs": [
        {
          "output_type": "execute_result",
          "data": {
            "text/plain": [
              "[100, 2500, 25, 49, 64, 4, 9]"
            ]
          },
          "metadata": {},
          "execution_count": 5
        }
      ],
      "source": [
        "nums = [10, 50, 5, 7, 8, 2, 3]\n",
        "newList = list(map(lambda x: x*x, nums))\n",
        "\n",
        "newList"
      ]
    },
    {
      "cell_type": "code",
      "source": [
        "frutas = ['caja', 'acerola', 'goiaba', 'uva', 'umbu', 'limao', 'maracuja']\n",
        "newFruta = list(map(lambda x: len(x), frutas))\n",
        "\n",
        "newFruta"
      ],
      "metadata": {
        "colab": {
          "base_uri": "https://localhost:8080/"
        },
        "id": "U5qLqz7Erh-2",
        "outputId": "ef442332-9506-458b-8d2d-fee3fba0cf9a"
      },
      "execution_count": 13,
      "outputs": [
        {
          "output_type": "execute_result",
          "data": {
            "text/plain": [
              "[4, 7, 6, 3, 4, 5, 8]"
            ]
          },
          "metadata": {},
          "execution_count": 13
        }
      ]
    },
    {
      "cell_type": "code",
      "source": [
        "precos = [9.99, 2.50, 3.45, 7.00, 10.99]\n",
        "dinheiro = list(map(lambda x: x+.02, precos))\n",
        "\n",
        "dinheiro"
      ],
      "metadata": {
        "colab": {
          "base_uri": "https://localhost:8080/"
        },
        "id": "NEi3g-cfteZb",
        "outputId": "4a0b7036-19dd-45db-dce1-ad0de662e067"
      },
      "execution_count": 17,
      "outputs": [
        {
          "output_type": "execute_result",
          "data": {
            "text/plain": [
              "[10.01, 2.52, 3.47, 7.02, 11.01]"
            ]
          },
          "metadata": {},
          "execution_count": 17
        }
      ]
    },
    {
      "cell_type": "code",
      "source": [
        "notas = [5, 10, 3, 6, 8, 9, 3, 2, 1, 4]\n",
        "\n",
        "aprovados = list(filter(lambda x: x>=7, notas)) #usar list quando for pegar alguns dados da lista, logo o map pega todos os dados de uma lista.\n",
        "\n",
        "aprovados"
      ],
      "metadata": {
        "colab": {
          "base_uri": "https://localhost:8080/"
        },
        "id": "LxABOdUVvbRx",
        "outputId": "bd2befd2-0faa-4b65-8e09-250e899a4f46"
      },
      "execution_count": 20,
      "outputs": [
        {
          "output_type": "execute_result",
          "data": {
            "text/plain": [
              "[10, 8, 9]"
            ]
          },
          "metadata": {},
          "execution_count": 20
        }
      ]
    },
    {
      "cell_type": "code",
      "source": [],
      "metadata": {
        "id": "3RsJgQjzwg5O"
      },
      "execution_count": null,
      "outputs": []
    }
  ]
}