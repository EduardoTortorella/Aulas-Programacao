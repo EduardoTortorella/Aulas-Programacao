{
  "nbformat": 4,
  "nbformat_minor": 0,
  "metadata": {
    "colab": {
      "provenance": [],
      "authorship_tag": "ABX9TyOxu1yxeCpTzLCQ9RLWMrOZ",
      "include_colab_link": true
    },
    "kernelspec": {
      "name": "python3",
      "display_name": "Python 3"
    },
    "language_info": {
      "name": "python"
    }
  },
  "cells": [
    {
      "cell_type": "markdown",
      "metadata": {
        "id": "view-in-github",
        "colab_type": "text"
      },
      "source": [
        "<a href=\"https://colab.research.google.com/github/Tortorellster/Aulas-Programacao/blob/main/AulaPR100423.ipynb\" target=\"_parent\"><img src=\"https://colab.research.google.com/assets/colab-badge.svg\" alt=\"Open In Colab\"/></a>"
      ]
    },
    {
      "cell_type": "code",
      "execution_count": 7,
      "metadata": {
        "id": "9z5riM82HjFK"
      },
      "outputs": [],
      "source": [
        "#\n",
        "def my_first_fuction():\n",
        "    print('minha primeira função')"
      ]
    },
    {
      "cell_type": "code",
      "source": [
        "# chamando função\n",
        "my_first_function()"
      ],
      "metadata": {
        "id": "_BnwzxQZH-JX"
      },
      "execution_count": null,
      "outputs": []
    },
    {
      "cell_type": "code",
      "source": [
        "def pronomeTratam(pronome):\n",
        "  print(pronome, \"Eduardo\")"
      ],
      "metadata": {
        "id": "dwqAr6bqIg03"
      },
      "execution_count": 11,
      "outputs": []
    },
    {
      "cell_type": "code",
      "source": [
        "pronomeTratam('Doutor')\n",
        "pronomeTratam('Ilmo')\n",
        "pronomeTratam('Seu')"
      ],
      "metadata": {
        "id": "ysKGOC2YIy-y"
      },
      "execution_count": null,
      "outputs": []
    },
    {
      "cell_type": "code",
      "source": [
        "def tratamNome(pronome, nome):\n",
        "  print(pronome, nome)"
      ],
      "metadata": {
        "id": "AkBoducqJxsk"
      },
      "execution_count": 13,
      "outputs": []
    },
    {
      "cell_type": "code",
      "source": [
        "tratamNome('Dr,', 'Zé')"
      ],
      "metadata": {
        "id": "xWIUoNZ2KgdH"
      },
      "execution_count": null,
      "outputs": []
    },
    {
      "cell_type": "code",
      "source": [
        "#Funcão que receb como parametros Nome e Ano de nascimento\n",
        "#Calcula a idade do sujeito e retorna algo como:\n",
        "# Asdrubal tem 28 anos"
      ],
      "metadata": {
        "id": "BxaqwjhDK-uK"
      },
      "execution_count": null,
      "outputs": []
    },
    {
      "cell_type": "code",
      "source": [
        "# minha resposta\n",
        "def test(nome, ano):\n",
        "  print(nome, idade)"
      ],
      "metadata": {
        "id": "LIHSGFaXK-RR"
      },
      "execution_count": 21,
      "outputs": []
    },
    {
      "cell_type": "code",
      "source": [
        "# minha resposta\n",
        "test('Eduardo', 1992)"
      ],
      "metadata": {
        "id": "HRent2SnK-dq"
      },
      "execution_count": null,
      "outputs": []
    },
    {
      "cell_type": "code",
      "source": [
        "# resposta do prof\n",
        "def nomeEAno(nome, ano):\n",
        "  idade = 2023 - ano\n",
        "  print(nome, idade, 'anos')"
      ],
      "metadata": {
        "id": "VeqBNxkEMeeA"
      },
      "execution_count": 17,
      "outputs": []
    },
    {
      "cell_type": "code",
      "source": [
        "# resposta do prof\n",
        "nomeEAno('Eduardo', 1992)"
      ],
      "metadata": {
        "id": "vZKf13u1M-a0"
      },
      "execution_count": null,
      "outputs": []
    },
    {
      "cell_type": "code",
      "source": [
        "#Funcao que recebe Altura e Peso e retorna IMC:\n",
        "#Formula IMC peso/altura**2"
      ],
      "metadata": {
        "id": "pJfAyUYdN_TO"
      },
      "execution_count": null,
      "outputs": []
    },
    {
      "cell_type": "code",
      "source": [
        "def IMC(altura, peso):\n",
        "  print(peso/altura**2)"
      ],
      "metadata": {
        "id": "2NIMg_yAOa7K"
      },
      "execution_count": 23,
      "outputs": []
    },
    {
      "cell_type": "code",
      "source": [
        "(IMC(1.80, 100))"
      ],
      "metadata": {
        "id": "cXChXo90ObA2"
      },
      "execution_count": null,
      "outputs": []
    },
    {
      "cell_type": "code",
      "source": [
        "def IMC(altura, peso):\n",
        "  return peso/altura**2"
      ],
      "metadata": {
        "id": "BD7izspLQu2U"
      },
      "execution_count": 26,
      "outputs": []
    },
    {
      "cell_type": "code",
      "source": [
        "print(IMC(1.80, 100))\n",
        "print(IMC(1.80, 100) < 30)"
      ],
      "metadata": {
        "colab": {
          "base_uri": "https://localhost:8080/"
        },
        "id": "cRkCMGSuQ1hX",
        "outputId": "90572224-5a41-46c5-d3b9-36a83923b68b"
      },
      "execution_count": 34,
      "outputs": [
        {
          "output_type": "stream",
          "name": "stdout",
          "text": [
            "30.864197530864196\n",
            "False\n"
          ]
        }
      ]
    },
    {
      "cell_type": "code",
      "source": [
        "# O calculo de Juros Simples é dado pela fórmula:\n",
        "# J = C * i * t\n",
        "# Sendo: \n",
        "# J = jurs simples\n",
        "# C = capital inicial\n",
        "# i = taxa de juros\n",
        "# t = tempo de aplicação\n",
        "\n",
        "# Crie uma funcao que recebe um valor de emprestimo e o tempo, e retorne quanto será pago de juros ao final do periodo\n",
        "# Use uma taxa de juros de 2.5%"
      ],
      "metadata": {
        "id": "JBBCLMV6Zrsf"
      },
      "execution_count": null,
      "outputs": []
    },
    {
      "cell_type": "code",
      "source": [
        "def juros(capital, tempo):\n",
        "  return capital*0.025*tempo"
      ],
      "metadata": {
        "id": "jIrV5esBaTBR"
      },
      "execution_count": 64,
      "outputs": []
    },
    {
      "cell_type": "code",
      "source": [
        "print('O valor do juros é de:')\n",
        "juros(1000, 12)\n"
      ],
      "metadata": {
        "colab": {
          "base_uri": "https://localhost:8080/"
        },
        "id": "qOip-AhRbBDz",
        "outputId": "71ec260f-20b5-425f-c95d-1c4e01360b08"
      },
      "execution_count": 65,
      "outputs": [
        {
          "output_type": "stream",
          "name": "stdout",
          "text": [
            "O valor do juros é de:\n"
          ]
        },
        {
          "output_type": "execute_result",
          "data": {
            "text/plain": [
              "300.0"
            ]
          },
          "metadata": {},
          "execution_count": 65
        }
      ]
    },
    {
      "cell_type": "code",
      "source": [
        "def totalemp(valor, tempo):\n",
        "  return valor + juros(valor, tempo)"
      ],
      "metadata": {
        "id": "7jwmLhUzeNGB"
      },
      "execution_count": 66,
      "outputs": []
    },
    {
      "cell_type": "code",
      "source": [
        "totalemp(1000, 12)"
      ],
      "metadata": {
        "colab": {
          "base_uri": "https://localhost:8080/"
        },
        "id": "igV5yVRgd0ET",
        "outputId": "70ce328f-2599-4736-e051-811395243be2"
      },
      "execution_count": 67,
      "outputs": [
        {
          "output_type": "execute_result",
          "data": {
            "text/plain": [
              "1300.0"
            ]
          },
          "metadata": {},
          "execution_count": 67
        }
      ]
    },
    {
      "cell_type": "code",
      "source": [
        "# Programa que solicita o valor do emprestimo e o tempo\n",
        "valor = float(input('Digite o valor do emprestimo: '))\n",
        "tempo = int(input('Em quanto tempo? '))\n",
        "\n",
        "totalemp(valor, tempo)"
      ],
      "metadata": {
        "colab": {
          "base_uri": "https://localhost:8080/"
        },
        "id": "UWp_tC8KfA-q",
        "outputId": "1646f7e5-d074-4231-f6ab-9c9e012e3fca"
      },
      "execution_count": 69,
      "outputs": [
        {
          "name": "stdout",
          "output_type": "stream",
          "text": [
            "Digite o valor do emprestimo: 1000\n",
            "Em quanto tempo? 12\n"
          ]
        },
        {
          "output_type": "execute_result",
          "data": {
            "text/plain": [
              "1300.0"
            ]
          },
          "metadata": {},
          "execution_count": 69
        }
      ]
    }
  ]
}