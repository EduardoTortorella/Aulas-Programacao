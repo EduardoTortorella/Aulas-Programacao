{
  "nbformat": 4,
  "nbformat_minor": 0,
  "metadata": {
    "colab": {
      "provenance": [],
      "authorship_tag": "ABX9TyOtFJ+aRrH5XES0u3F/dop8",
      "include_colab_link": true
    },
    "kernelspec": {
      "name": "python3",
      "display_name": "Python 3"
    },
    "language_info": {
      "name": "python"
    }
  },
  "cells": [
    {
      "cell_type": "markdown",
      "metadata": {
        "id": "view-in-github",
        "colab_type": "text"
      },
      "source": [
        "<a href=\"https://colab.research.google.com/github/EduardoTortorella/Aulas-Programacao/blob/main/AulaPablo17deAbril.ipynb\" target=\"_parent\"><img src=\"https://colab.research.google.com/assets/colab-badge.svg\" alt=\"Open In Colab\"/></a>"
      ]
    },
    {
      "cell_type": "code",
      "execution_count": 7,
      "metadata": {
        "id": "jwPp7gf1JQW-"
      },
      "outputs": [],
      "source": [
        "# AULA 17 DE ABRIL\n",
        "\n",
        "# FUNÇÃO CALCUCA MÉDIA\n",
        "\n",
        "def calculaMedia(x,y,z):\n",
        "  return (x+y+z)/3"
      ]
    },
    {
      "cell_type": "code",
      "source": [
        "a = float(input('Nota 1: '))\n",
        "b = float(input('Nota 2: '))\n",
        "c = float(input('Nota 3: '))\n",
        "\n",
        "calculaMedia(a, b, c)"
      ],
      "metadata": {
        "id": "AEkO-xHGJ94I"
      },
      "execution_count": null,
      "outputs": []
    },
    {
      "cell_type": "code",
      "source": [
        "# Argumentos arbitrários *args\n",
        "# Quando não se tem certeza quantos argumetnos são passados pela função;\n",
        "\n",
        "\n",
        "def mediaTotal(*notas):\n",
        "  soma = 0\n",
        "  for nota in notas:\n",
        "    soma += nota\n",
        "  media = soma/len(notas)\n",
        "  print('A média é: ', round(media, 2)) # Comando Round é usado para arredondar o resultado e o numero pós virgula e para determinar as casas decimais\n",
        "\n"
      ],
      "metadata": {
        "id": "xvUFMsoaMNg2"
      },
      "execution_count": 22,
      "outputs": []
    },
    {
      "cell_type": "code",
      "source": [
        "mediaTotal(6,8,4,10,9,6,7,8,10)"
      ],
      "metadata": {
        "colab": {
          "base_uri": "https://localhost:8080/"
        },
        "id": "XQi9sWb5N0ry",
        "outputId": "21ce3364-a3f6-44c7-b4c5-a733e4619474"
      },
      "execution_count": 21,
      "outputs": [
        {
          "output_type": "stream",
          "name": "stdout",
          "text": [
            "A média é:  8\n"
          ]
        }
      ]
    },
    {
      "cell_type": "code",
      "source": [
        "# Recebe vários números e retorna o maior.\n",
        "\n",
        "def maior(*numeros):\n",
        "    if len(numeros) == 0:\n",
        "        return None\n",
        "    else:\n",
        "        maior_numero = numeros[0]\n",
        "        for numero in numeros:\n",
        "            if numero > maior_numero:\n",
        "                maior_numero = numero\n",
        "        return maior_numero\n"
      ],
      "metadata": {
        "id": "G3MxbJxSRANW"
      },
      "execution_count": 32,
      "outputs": []
    },
    {
      "cell_type": "code",
      "source": [
        "maior(10,9,2,25,3,5,9,10)"
      ],
      "metadata": {
        "colab": {
          "base_uri": "https://localhost:8080/"
        },
        "id": "TuM_AYBvRB4Z",
        "outputId": "bb92a7ce-d70d-48b7-8c0e-21c215c31bbf"
      },
      "execution_count": 33,
      "outputs": [
        {
          "output_type": "execute_result",
          "data": {
            "text/plain": [
              "25"
            ]
          },
          "metadata": {},
          "execution_count": 33
        }
      ]
    },
    {
      "cell_type": "code",
      "source": [
        "def retornaMaior(*numeros):\n",
        "  maior = 0\n",
        "  for n in numeros:\n",
        "    if(n >= maior):\n",
        "      maior = n\n",
        "  return maior"
      ],
      "metadata": {
        "id": "8BIjA27PaIAC"
      },
      "execution_count": 39,
      "outputs": []
    },
    {
      "cell_type": "code",
      "source": [
        "retornaMaior(10,5,2,5,25)"
      ],
      "metadata": {
        "colab": {
          "base_uri": "https://localhost:8080/"
        },
        "id": "KTeLjAX5a2A8",
        "outputId": "9db189e5-6055-4a07-aaff-c5a4f5dfef20"
      },
      "execution_count": 41,
      "outputs": [
        {
          "output_type": "execute_result",
          "data": {
            "text/plain": [
              "25"
            ]
          },
          "metadata": {},
          "execution_count": 41
        }
      ]
    },
    {
      "cell_type": "code",
      "source": [
        "# Valor de parâmetros padrão.\n",
        "\n",
        "def nacionalidade(country = 'Vegas'):\n",
        "  print('Eu nasci em: ', country)"
      ],
      "metadata": {
        "id": "uqWk_BEOeV_i"
      },
      "execution_count": 42,
      "outputs": []
    },
    {
      "cell_type": "code",
      "source": [
        "nacionalidade('Brasil')\n",
        "nacionalidade('Russia')\n",
        "nacionalidade('Polonia')\n",
        "nacionalidade()"
      ],
      "metadata": {
        "colab": {
          "base_uri": "https://localhost:8080/"
        },
        "id": "FMEC_g05fCWr",
        "outputId": "0627e123-48a8-4e9d-ee1d-5c3fca3b5122"
      },
      "execution_count": 49,
      "outputs": [
        {
          "output_type": "stream",
          "name": "stdout",
          "text": [
            "Eu nasci em:  Brasil\n",
            "Eu nasci em:  Russia\n",
            "Eu nasci em:  Polonia\n",
            "Eu nasci em:  Vegas\n"
          ]
        }
      ]
    },
    {
      "cell_type": "code",
      "source": [
        "#1 Escreva uma funcao que recebe dois parametros numericos e retorna a soma desses numeros.\n",
        "#2 Escreva uma funcao que recebe um numero e retorna o seu valor absoluto.\n",
        "#3 Escreva um funcao que recebe uma lista de numeros e retorna o maior numero da lista.\n",
        "#4 Escreva uma funcao que rebe uma lista de palavras e retorna uma lista com as palavras que possuem mais de tres letras."
      ],
      "metadata": {
        "id": "VT30U6rQfobT"
      },
      "execution_count": 50,
      "outputs": []
    },
    {
      "cell_type": "code",
      "source": [
        "# 1 \n",
        "\n",
        "def soma(a,b):\n",
        "  return a+b"
      ],
      "metadata": {
        "id": "5zz4MQYrgeCf"
      },
      "execution_count": 51,
      "outputs": []
    },
    {
      "cell_type": "code",
      "source": [
        "a = float(input('Valor 1: '))\n",
        "b = float(input('valor 2: '))\n",
        "\n",
        "soma (a,b)"
      ],
      "metadata": {
        "colab": {
          "base_uri": "https://localhost:8080/"
        },
        "id": "hJbGG3UWgeT_",
        "outputId": "5453735e-d3c6-4134-9083-b21aa06848ee"
      },
      "execution_count": 52,
      "outputs": [
        {
          "name": "stdout",
          "output_type": "stream",
          "text": [
            "Valor 1: 10\n",
            "valor 2: 2\n"
          ]
        },
        {
          "output_type": "execute_result",
          "data": {
            "text/plain": [
              "12.0"
            ]
          },
          "metadata": {},
          "execution_count": 52
        }
      ]
    },
    {
      "cell_type": "code",
      "source": [
        "# 2\n",
        "\n",
        "def valor_absoluto(numero):\n",
        "    return abs(numero)"
      ],
      "metadata": {
        "id": "TFebsOBRg2Lk"
      },
      "execution_count": 53,
      "outputs": []
    },
    {
      "cell_type": "code",
      "source": [
        "print('Seu número é: ', valor_absoluto(-5))\n",
        "print('Seu número é: ', valor_absoluto(5))\n"
      ],
      "metadata": {
        "colab": {
          "base_uri": "https://localhost:8080/"
        },
        "id": "bmL-KmpXhUB-",
        "outputId": "2ebf31c9-3816-4549-9ace-419e9d930fae"
      },
      "execution_count": 58,
      "outputs": [
        {
          "output_type": "stream",
          "name": "stdout",
          "text": [
            "Seu número é:  5\n",
            "Seu número é:  5\n"
          ]
        }
      ]
    },
    {
      "cell_type": "code",
      "source": [
        "# 2 prof\n",
        "\n",
        "def valorAbsoluto(num):\n",
        "  if(num < 0):\n",
        "    num = num * -1\n",
        "  return num"
      ],
      "metadata": {
        "id": "IIAL9lHgjHD6"
      },
      "execution_count": 62,
      "outputs": []
    },
    {
      "cell_type": "code",
      "source": [
        "valorAbsoluto(-15)"
      ],
      "metadata": {
        "colab": {
          "base_uri": "https://localhost:8080/"
        },
        "id": "9glV5zXTjUcv",
        "outputId": "583c3e6a-97c7-4b10-d4a5-ff9833929a1c"
      },
      "execution_count": 63,
      "outputs": [
        {
          "output_type": "execute_result",
          "data": {
            "text/plain": [
              "15"
            ]
          },
          "metadata": {},
          "execution_count": 63
        }
      ]
    },
    {
      "cell_type": "code",
      "source": [
        "# 3\n",
        "\n"
      ],
      "metadata": {
        "id": "kV0ODWiohyEQ"
      },
      "execution_count": null,
      "outputs": []
    },
    {
      "cell_type": "code",
      "source": [],
      "metadata": {
        "id": "mIDUwssBitaL"
      },
      "execution_count": null,
      "outputs": []
    },
    {
      "cell_type": "code",
      "source": [
        "# 4\n",
        "\n",
        "def verificacao(lista):\n",
        "  novalista = []\n",
        "  novalista2 = []\n",
        "  for item in lista:\n",
        "    if(len(item) > 3):\n",
        "        novalista.append(item)\n",
        "    else:\n",
        "        novalista2.append(item)\n",
        "  return (novalista, novalista2)"
      ],
      "metadata": {
        "id": "pCCCZJ8ritgg"
      },
      "execution_count": 84,
      "outputs": []
    },
    {
      "cell_type": "code",
      "source": [
        "frutas = ['manga', 'mangaba', 'acerola', 'uva', 'caju','in']\n",
        "verificacao(frutas)"
      ],
      "metadata": {
        "colab": {
          "base_uri": "https://localhost:8080/"
        },
        "id": "BzQCBPyGishi",
        "outputId": "688b0b48-ac7b-4dff-fab9-8b8050a7490a"
      },
      "execution_count": 85,
      "outputs": [
        {
          "output_type": "execute_result",
          "data": {
            "text/plain": [
              "(['manga', 'mangaba', 'acerola', 'caju'], ['uva', 'in'])"
            ]
          },
          "metadata": {},
          "execution_count": 85
        }
      ]
    }
  ]
}