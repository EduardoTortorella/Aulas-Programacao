{
  "nbformat": 4,
  "nbformat_minor": 0,
  "metadata": {
    "colab": {
      "provenance": [],
      "authorship_tag": "ABX9TyOyL4m4+AcD1dtuFmf4ZCC0",
      "include_colab_link": true
    },
    "kernelspec": {
      "name": "python3",
      "display_name": "Python 3"
    },
    "language_info": {
      "name": "python"
    }
  },
  "cells": [
    {
      "cell_type": "markdown",
      "metadata": {
        "id": "view-in-github",
        "colab_type": "text"
      },
      "source": [
        "<a href=\"https://colab.research.google.com/github/Tortorellster/Aulas-Programacao/blob/main/AulaLacos.ipynb\" target=\"_parent\"><img src=\"https://colab.research.google.com/assets/colab-badge.svg\" alt=\"Open In Colab\"/></a>"
      ]
    },
    {
      "cell_type": "code",
      "execution_count": null,
      "metadata": {
        "id": "lTTHptQM-92n"
      },
      "outputs": [],
      "source": [
        "print('Eduardo Tortorella de Lima')\n",
        "\n",
        "ano = '2023'\n",
        "mes = 'marco'\n",
        "dia = '27'\n",
        "print(dia); print(mes); print(ano)\n"
      ]
    },
    {
      "cell_type": "code",
      "source": [
        "fruta = 'Banana'\n",
        "\n",
        "print(fruta)"
      ],
      "metadata": {
        "id": "rq5DNXpACiJM"
      },
      "execution_count": null,
      "outputs": []
    },
    {
      "cell_type": "code",
      "source": [
        "#Criando uma lista\n",
        "\n",
        "frutas = ['jaca', 'manga', 'morango', 'pinha', 'goiaba']"
      ],
      "metadata": {
        "id": "jV_dhz8-ENWF"
      },
      "execution_count": 16,
      "outputs": []
    },
    {
      "cell_type": "markdown",
      "source": [
        "# **LAÇOS FOR** ✅\n",
        "\n",
        "\n",
        "\n"
      ],
      "metadata": {
        "id": "mtl977WoHKJR"
      }
    },
    {
      "cell_type": "markdown",
      "source": [],
      "metadata": {
        "id": "Ev7hp-ecHJ-9"
      }
    },
    {
      "cell_type": "code",
      "source": [
        "for i in frutas:\n",
        "  print(i)"
      ],
      "metadata": {
        "id": "tEpQv16SE7kJ"
      },
      "execution_count": null,
      "outputs": []
    },
    {
      "cell_type": "code",
      "source": [
        "#if = condição caso tenha no \"for\" | não esquecer do dois pontos ao final \":\"\n",
        "\n",
        "for i in frutas:\n",
        "  if(i == 'morango'):\n",
        "    print(i)"
      ],
      "metadata": {
        "id": "Y2Y9cfilF-2W"
      },
      "execution_count": null,
      "outputs": []
    },
    {
      "cell_type": "code",
      "source": [
        "fruta = input('insira uma fruta')\n",
        "#inserir valor em listas...\n",
        "frutas.append(fruta)\n",
        "frutas\n",
        "\n",
        "#perguntar ao professor como remover as reticencias que ficou aparecendo no código\n",
        "#tinha colocado \" frutas = input \" antes"
      ],
      "metadata": {
        "id": "INivDKcJHfct"
      },
      "execution_count": null,
      "outputs": []
    },
    {
      "cell_type": "code",
      "source": [
        "notas = [8, 9, 3, 4, 7, 10, 3, 6, 7]\n",
        "for nota in notas:\n",
        "  if(nota >= 7):\n",
        "    print(nota)"
      ],
      "metadata": {
        "id": "VCixe1ywIv_v"
      },
      "execution_count": null,
      "outputs": []
    },
    {
      "cell_type": "code",
      "source": [
        "#Exiba a quantidade de aprovados e de reprovados.\n",
        "\n",
        "notas = [8, 9, 3, 4, 7, 10, 3, 6, 7, 1, 2]\n",
        "for nota in notas:\n",
        "  if(nota >= 7):\n",
        "    print(nota)\n",
        "    \n",
        "for nota in notas:\n",
        "  if(nota <= 6):\n",
        "    print(nota)\n",
        "\n",
        "\n"
      ],
      "metadata": {
        "id": "ELOH7AlLJSej"
      },
      "execution_count": null,
      "outputs": []
    },
    {
      "cell_type": "code",
      "source": [
        "#solução do professor do problema anterior\n",
        "\n",
        "aprovados = 0\n",
        "reprovados = 0\n",
        "\n",
        "for nota in notas:\n",
        "  if(nota>=7):\n",
        "    aprovados +=1\n",
        "  else:\n",
        "    reprovados +=1\n",
        "\n",
        "print('Aprovados:', aprovados)\n",
        "print('Reprovados:', reprovados) "
      ],
      "metadata": {
        "id": "A0C4qneVMJBR"
      },
      "execution_count": null,
      "outputs": []
    },
    {
      "cell_type": "code",
      "source": [
        "#Criar um programa que lista os números de 1 a 10\n",
        "#Para isto, precisaremos de um contador\n",
        "\n",
        "cont = 1\n",
        "numeros = []\n",
        "\n",
        "while (cont <= 10):\n",
        "  numeros.append(cont)\n",
        "  cont += 1\n",
        "\n",
        "numeros"
      ],
      "metadata": {
        "colab": {
          "base_uri": "https://localhost:8080/"
        },
        "id": "IQoZmOebRoEG",
        "outputId": "c6ec7934-f708-4653-96d1-ac94e4befc90"
      },
      "execution_count": 49,
      "outputs": [
        {
          "output_type": "execute_result",
          "data": {
            "text/plain": [
              "[1, 2, 3, 4, 5, 6, 7, 8, 9, 10]"
            ]
          },
          "metadata": {},
          "execution_count": 49
        }
      ]
    },
    {
      "cell_type": "code",
      "source": [
        "#modifique o código anterior, para solicitar um tamanho de lista\n",
        "#X e com o laço while, crie a nova lista, do tamanho desejado.\n",
        "\n",
        "cont = 1\n",
        "numeros = []\n",
        "tamanho = int(input('Digitar o tamanho da lista'))\n",
        "\n",
        "while (cont <= tamanho):\n",
        "  numeros.append(cont)\n",
        "  cont += 1\n",
        "\n",
        "numeros"
      ],
      "metadata": {
        "id": "K-gFX_VZSTn-"
      },
      "execution_count": null,
      "outputs": []
    },
    {
      "cell_type": "code",
      "source": [
        "# inserir nomes de cidades.\n",
        "# O laço encerra, quando digitar 0.\n",
        "\n",
        "cont = 1\n",
        "Lista = []\n",
        "tamanho = int(input('Digitar o nome da cidade'))\n",
        "\n",
        "while (cont <= tamanho):\n",
        "  Lista.append(cont)\n",
        "  cont += 1\n",
        "\n",
        "Lista"
      ],
      "metadata": {
        "id": "85wn2RyMUu-L"
      },
      "execution_count": null,
      "outputs": []
    },
    {
      "cell_type": "code",
      "source": [
        "#Solução do problema anterior\n",
        "\n",
        "cidades = []\n",
        "city = input('Digite uma cidade: ')\n",
        "\n",
        "while(city != \"0\"):\n",
        "  cidades.append(city)\n",
        "  city = input('Digite uma cidade: ')\n",
        "\n",
        "cidades"
      ],
      "metadata": {
        "id": "e1f074TbWRYv"
      },
      "execution_count": null,
      "outputs": []
    },
    {
      "cell_type": "code",
      "source": [
        "#Criar um Programa que infrome se o número informado é par ou ímpar.\n",
        "\n",
        "num = int(input('Digite um número'))\n",
        "\n",
        "while(num >= 0):\n",
        "  if(num % 2 == 0):\n",
        "    print('É par')\n",
        "    num = int(input('Digite um número'))\n",
        "  else:\n",
        "    print('É impar')\n",
        "    num = int(input('Digite um número'))\n",
        "    \n",
        "print('Programa encerrado')"
      ],
      "metadata": {
        "id": "WYXGB6jYX6mu"
      },
      "execution_count": null,
      "outputs": []
    }
  ]
}