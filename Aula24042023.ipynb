{
  "nbformat": 4,
  "nbformat_minor": 0,
  "metadata": {
    "colab": {
      "provenance": [],
      "authorship_tag": "ABX9TyP+Uy60XNtfQC6yvW+OAyoa",
      "include_colab_link": true
    },
    "kernelspec": {
      "name": "python3",
      "display_name": "Python 3"
    },
    "language_info": {
      "name": "python"
    }
  },
  "cells": [
    {
      "cell_type": "markdown",
      "metadata": {
        "id": "view-in-github",
        "colab_type": "text"
      },
      "source": [
        "<a href=\"https://colab.research.google.com/github/EduardoTortorella/P1_SI_Manha/blob/main/Aula24042023.ipynb\" target=\"_parent\"><img src=\"https://colab.research.google.com/assets/colab-badge.svg\" alt=\"Open In Colab\"/></a>"
      ]
    },
    {
      "cell_type": "markdown",
      "source": [
        "Aula 20 de Abril de 2023\n",
        "Funções."
      ],
      "metadata": {
        "id": "rTkA5CjBLo6h"
      }
    },
    {
      "cell_type": "code",
      "source": [
        "# 01 - Escreva uma função que recebe uma lista de string e retorna:\n",
        "  ## apenas as palavras que começam com a letra A\n",
        "  ## a quantidade de palavras encontradas\n",
        "\n",
        "# 02 - Escreva uma função que receba uma lista de numeros e retorne o produto desses números.\n",
        "# 03 - Escreva uma função que receba uma lista de numeros e retorne a soma dos numeros pares.\n",
        "# 04 - Escreva uma função que receba uma lista de nomes e retorne o string com o maior número de caracteres."
      ],
      "metadata": {
        "id": "o36u092HMVmh"
      },
      "execution_count": null,
      "outputs": []
    },
    {
      "cell_type": "code",
      "source": [
        "# R1_gpt\n",
        "\n",
        "def lista_a2(lista_palavras):\n",
        "    palavras_A = [palavra for palavra in lista_palavras if palavra.lower().startswith('a')]\n",
        "    quantidade = len(palavras_A)\n",
        "    return palavras_A, quantidade\n"
      ],
      "metadata": {
        "id": "OiMj0e1EQ-qw"
      },
      "execution_count": null,
      "outputs": []
    },
    {
      "cell_type": "code",
      "source": [
        "lista = ['alambique', 'faca', 'ovelha', 'amaciante', 'omega', 'igreja', 'alura', 'fusca', 'opel', 'ilha', 'uva', 'abacate', 'abacaxi']\n",
        "lista_a2(lista)"
      ],
      "metadata": {
        "colab": {
          "base_uri": "https://localhost:8080/"
        },
        "id": "7qzcZixeZdD2",
        "outputId": "3492609e-71d3-4984-f0db-622407df4e48"
      },
      "execution_count": null,
      "outputs": [
        {
          "output_type": "execute_result",
          "data": {
            "text/plain": [
              "(['alambique', 'amaciante', 'alura', 'abacate', 'abacaxi'], 5)"
            ]
          },
          "metadata": {},
          "execution_count": 20
        }
      ]
    },
    {
      "cell_type": "code",
      "source": [
        "# R1_prof\n",
        "\n",
        "def listaLetraA(palavras):\n",
        "  wordA = []\n",
        "  for i in palavras:\n",
        "    if i[0] == 'a':\n",
        "      wordA.append(i)\n",
        "  print(len(wordA))\n",
        "  return wordA"
      ],
      "metadata": {
        "id": "SaCp5OQsVACH"
      },
      "execution_count": null,
      "outputs": []
    },
    {
      "cell_type": "code",
      "source": [
        "lista3 = ['alambique', 'faca', 'ovelha', 'amaciante', 'omega', 'igreja', 'alura', 'fusca', 'opel', 'ilha', 'uva', 'abacate', 'abacaxi']\n",
        "listaLetraA(lista3)"
      ],
      "metadata": {
        "colab": {
          "base_uri": "https://localhost:8080/"
        },
        "id": "YdODqX4LRYNd",
        "outputId": "0bce873e-6432-4047-f639-7d16854c8703"
      },
      "execution_count": null,
      "outputs": [
        {
          "output_type": "stream",
          "name": "stdout",
          "text": [
            "5\n"
          ]
        },
        {
          "output_type": "execute_result",
          "data": {
            "text/plain": [
              "['alambique', 'amaciante', 'alura', 'abacate', 'abacaxi']"
            ]
          },
          "metadata": {},
          "execution_count": 22
        }
      ]
    },
    {
      "cell_type": "code",
      "source": [
        "# R2_gpt\n",
        "\n",
        "def calcular_produto(lista_numeros):\n",
        "    produto = 1\n",
        "    for numero in lista_numeros:\n",
        "        produto *= numero\n",
        "    return produto"
      ],
      "metadata": {
        "id": "xC8j5FtBToCn"
      },
      "execution_count": null,
      "outputs": []
    },
    {
      "cell_type": "code",
      "source": [
        "lista2 = [50, 2, 5, 10, 55]\n",
        "calcular_produto(lista2)"
      ],
      "metadata": {
        "colab": {
          "base_uri": "https://localhost:8080/"
        },
        "id": "Z8fZtcTWTxQP",
        "outputId": "758dbd4c-3fd0-4524-d737-56a012c5fc5f"
      },
      "execution_count": null,
      "outputs": [
        {
          "output_type": "execute_result",
          "data": {
            "text/plain": [
              "275000"
            ]
          },
          "metadata": {},
          "execution_count": 31
        }
      ]
    },
    {
      "cell_type": "code",
      "source": [
        "# R2_prof\n",
        "\n",
        "def produto(numeros):\n",
        "  resultado = 1\n",
        "  for n in numeros:\n",
        "    resultado *= n\n",
        "  return resultado"
      ],
      "metadata": {
        "id": "h-d5fZTva2Gr"
      },
      "execution_count": null,
      "outputs": []
    },
    {
      "cell_type": "code",
      "source": [
        "listaa = [2,4, 50, 10]\n",
        "produto(listaa)"
      ],
      "metadata": {
        "colab": {
          "base_uri": "https://localhost:8080/"
        },
        "id": "j8WdYPttcW1N",
        "outputId": "42332897-1ffa-43f3-8fc7-30a3406fef61"
      },
      "execution_count": null,
      "outputs": [
        {
          "output_type": "execute_result",
          "data": {
            "text/plain": [
              "4000"
            ]
          },
          "metadata": {},
          "execution_count": 33
        }
      ]
    },
    {
      "cell_type": "code",
      "source": [
        "# R3_prof retornar a soma dos numeros pares\n",
        "\n",
        "def somatorio(numeros):\n",
        "  soma = 0 \n",
        "  for n in numeros:\n",
        "    if n % 2 == 0:\n",
        "      soma += n\n",
        "  return soma\n",
        "\n",
        "listx = (5, 2, 30, 11, 20)\n",
        "somatorio(listx)"
      ],
      "metadata": {
        "colab": {
          "base_uri": "https://localhost:8080/"
        },
        "id": "XqTH9JnPc3u-",
        "outputId": "cd61b523-7ee7-4d78-c28e-2d23aefd6f0f"
      },
      "execution_count": null,
      "outputs": [
        {
          "output_type": "execute_result",
          "data": {
            "text/plain": [
              "52"
            ]
          },
          "metadata": {},
          "execution_count": 42
        }
      ]
    },
    {
      "cell_type": "code",
      "source": [
        "# R4_prof retorne o string com o maior número de caracteres\n",
        "\n",
        "users = ('proparoxitona', 'aleatorio', 'sabia', 'ivo', 'faca')\n",
        "\n",
        "def maiorString(users):\n",
        "  maior = ''\n",
        "  for u in users:\n",
        "    if(len(u) >= len(maior)):\n",
        "      maior = u\n",
        "  return maior\n",
        "\n",
        "maiorString(users)"
      ],
      "metadata": {
        "colab": {
          "base_uri": "https://localhost:8080/",
          "height": 37
        },
        "id": "S7ZkMEpojRKb",
        "outputId": "5da6cac4-1156-4396-a43b-7669ff326718"
      },
      "execution_count": null,
      "outputs": [
        {
          "output_type": "execute_result",
          "data": {
            "text/plain": [
              "'proparoxitona'"
            ],
            "application/vnd.google.colaboratory.intrinsic+json": {
              "type": "string"
            }
          },
          "metadata": {},
          "execution_count": 55
        }
      ]
    },
    {
      "cell_type": "markdown",
      "source": [
        "# Recursao\n",
        " . ''Recursividade' é um termo usando de maneira mais geral para descrever o processo de repetição de um objeto de um jeito similar que já fora mostrado. Um bom exemplo disso são as imagens repetidas que aparecem quando dois espelhos são apontados um para o outro."
      ],
      "metadata": {
        "id": "Kfzq-sS3pdTY"
      }
    },
    {
      "cell_type": "code",
      "source": [
        "# Calaculo de fatorial:\n",
        "# o fatorial de um numero é o produto dele pelos seus antecessroes maiores que 0.\n",
        "# Por exemplo, o fatoria de 6 é: 6! = 6*5*4*3*2*1.\n",
        "\n",
        "def fatorial(n):\n",
        "  if(n <= 1):\n",
        "    return 1\n",
        "  else:\n",
        "    return n * fatorial(n-1)\n",
        "  \n",
        "fatorial(5)"
      ],
      "metadata": {
        "colab": {
          "base_uri": "https://localhost:8080/"
        },
        "id": "LLwxWMdYpcfN",
        "outputId": "2593ea86-bf1f-4475-a0ff-346348c4af23"
      },
      "execution_count": null,
      "outputs": [
        {
          "output_type": "execute_result",
          "data": {
            "text/plain": [
              "120"
            ]
          },
          "metadata": {},
          "execution_count": 57
        }
      ]
    }
  ]
}